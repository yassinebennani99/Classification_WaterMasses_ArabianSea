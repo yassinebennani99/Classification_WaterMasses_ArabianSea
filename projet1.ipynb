{
 "cells": [
  {
   "cell_type": "markdown",
   "id": "5a7ccd0f",
   "metadata": {},
   "source": [
    "# Packages"
   ]
  },
  {
   "cell_type": "code",
   "execution_count": 1,
   "id": "c5065f33",
   "metadata": {},
   "outputs": [],
   "source": [
    "import pandas as pd\n",
    "import numpy as np\n",
    "from numpy import where\n",
    "import numpy.ma as ma\n",
    "\n",
    "\n",
    "from netCDF4 import Dataset\n",
    "import os\n",
    "import netCDF4\n",
    "\n",
    "from sklearn.cluster import KMeans\n",
    "from sklearn.preprocessing import MinMaxScaler\n",
    "from matplotlib import pyplot as plt\n",
    "\n",
    "import gsw"
   ]
  },
  {
   "cell_type": "markdown",
   "id": "e7e61dd4",
   "metadata": {},
   "source": [
    "# UPLOADING VARIABLES \n"
   ]
  },
  {
   "cell_type": "code",
   "execution_count": 2,
   "id": "891bfa4d",
   "metadata": {},
   "outputs": [
    {
     "name": "stdout",
     "output_type": "stream",
     "text": [
      "<class 'netCDF4._netCDF4.Dataset'>\n",
      "root group (NETCDF4 data model, file format HDF5):\n",
      "    description: Var 0:Depth; 1:Presssure; 2:Salinity; 3:Temperature; 4:Density; 5:Chlorophyl; 6:Oxygen\n",
      "    dimensions(sizes): N_profile(60406), N_profile_month(9828), N_variable(7), N_clim(5), N_clim_grid(3), Z_dimension(402), Sigma_dimension(1000), Month_dimension(12), Lon_dimension(117), Lat_dimension(105)\n",
      "    variables(dimensions): float32 LON(N_profile), float32 LAT(N_profile), float32 YEAR(N_profile), float32 MONTH(N_profile), float32 DAY(N_profile), float64 NAME(N_profile), int64 MONTH_dim(Month_dimension), int64 VAR_dim(N_variable), int64 CLIM_dim(N_clim), int64 CLIM_GRID_dim(N_clim_grid), float32 DEPTH(Z_dimension), float32 SIGMA(Sigma_dimension), float32 LON_GRID(Lon_dimension), float32 LAT_GRID(Lat_dimension), float32 LON_MONTH(Month_dimension, N_profile_month), float32 LAT_MONTH(Month_dimension, N_profile_month), float32 VAR_Z(N_variable, N_profile, Z_dimension), float32 CLIM_Z(N_clim, N_profile, Z_dimension), float32 VAR_SIGMA(N_variable, N_profile, Sigma_dimension), float32 CLIM_SIGMA(N_clim, N_profile, Sigma_dimension), float32 VAR_MONTH_Z(N_variable, Month_dimension, N_profile_month, Z_dimension), float32 CLIM_MONTH_Z(N_clim, Month_dimension, N_profile_month, Z_dimension), float32 VAR_MONTH_SIGMA(N_variable, Month_dimension, N_profile_month, Sigma_dimension), float32 CLIM_MONTH_SIGMA(N_clim, Month_dimension, N_profile_month, Sigma_dimension), float32 CLIM_Z_GRID(N_clim_grid, Month_dimension, Lat_dimension, Lon_dimension, Z_dimension), float32 CLIM_SIGMA_GRID(N_clim_grid, Month_dimension, Lat_dimension, Lon_dimension, Sigma_dimension)\n",
      "    groups: \n",
      "[    5     6     7 ... 60403 60404 60405]\n"
     ]
    }
   ],
   "source": [
    "file = 'WOA_ARGO_clim_V2019_NE.nc'\n",
    "nc= Dataset(file)\n",
    "print(nc)\n",
    "\n",
    "year = nc['YEAR'][:]\n",
    "var= nc['VAR_Z']\n",
    "\n",
    "lat = nc['LAT'][:]\n",
    "lon = nc['LON'][:]\n",
    "\n",
    "idy=np.where(np.logical_and(year>= 2007, year<= 2017))\n",
    "idy=np.where(np.logical_and(lat<=20, lon<= 65))\n",
    "print(idy[0])\n",
    "\n",
    "# profondeur\n",
    "zanc=var[0,idy[0],:]\n",
    "##z=zanc[np.logical_not(np.isnan(zanc))]\n",
    "#Salinité\n",
    "Sanc=var[2,idy[0],:]\n",
    "#Temperature\n",
    "Tanc=var[3,idy[0],:]\n",
    "#Densité\n",
    "Dens=var[4,idy[0],:]\n",
    "\n",
    "\n",
    "lat = nc['LAT'][idy[0]]\n",
    "lon = nc['LON'][idy[0]]\n",
    "\n",
    "var2 = nc['CLIM_Z']\n",
    "\n",
    "#Salinité\n",
    "Sanc2=var2[2,idy[0],:]\n",
    "#Temperature\n",
    "Tanc2=var2[3,idy[0],:]\n",
    "#Densité\n",
    "Dens2=var2[4,idy[0],:]\n",
    "\n",
    "#Density Anomaly\n",
    "Dens_ano = Dens- Dens2\n",
    "\n",
    "# Spiciness\n",
    "sp = gsw.spiciness0(Sanc,Tanc)\n",
    "sp_clim= gsw.spiciness0(Sanc2,Tanc2)\n",
    "\n",
    "# Spiciness Anomaly\n",
    "sp_ano = sp -sp_clim\n"
   ]
  },
  {
   "cell_type": "code",
   "execution_count": null,
   "id": "584ea4c2",
   "metadata": {},
   "outputs": [],
   "source": [
    "        "
   ]
  },
  {
   "cell_type": "code",
   "execution_count": 3,
   "id": "0901222f",
   "metadata": {},
   "outputs": [
    {
     "name": "stdout",
     "output_type": "stream",
     "text": [
      "5.1164074\n",
      "-3.6686306\n",
      "4.517677404285507\n",
      "-5.343487077571595\n"
     ]
    }
   ],
   "source": [
    "print(np.nanmax(Dens_ano))\n",
    "print(np.nanmin(Dens_ano))\n",
    "print(np.nanmax(sp_ano))\n",
    "print(np.nanmin(sp_ano))"
   ]
  },
  {
   "cell_type": "markdown",
   "id": "034a58c8",
   "metadata": {},
   "source": [
    "# 1 PROFILE IDX "
   ]
  },
  {
   "cell_type": "code",
   "execution_count": 4,
   "id": "eb09520c",
   "metadata": {},
   "outputs": [
    {
     "name": "stdout",
     "output_type": "stream",
     "text": [
      "13287\n",
      "[      nan       nan 35.89237  35.876305 35.888584 35.895313 35.91\n",
      " 35.838882 35.65703  35.58595  35.58039  35.56901  35.613655 35.644444\n",
      " 35.639313 35.64229  35.610577 35.574566       nan       nan       nan\n",
      "       nan       nan       nan       nan       nan       nan       nan\n",
      "       nan       nan       nan       nan       nan       nan       nan\n",
      "       nan       nan       nan       nan       nan       nan       nan\n",
      "       nan       nan       nan       nan       nan       nan       nan\n",
      "       nan       nan       nan       nan       nan       nan       nan\n",
      "       nan       nan       nan       nan       nan       nan       nan\n",
      "       nan       nan       nan       nan       nan       nan       nan\n",
      "       nan       nan       nan       nan       nan       nan       nan\n",
      "       nan       nan       nan       nan       nan       nan       nan\n",
      "       nan       nan       nan       nan       nan       nan       nan\n",
      "       nan       nan       nan       nan       nan       nan       nan\n",
      "       nan       nan       nan       nan       nan       nan       nan\n",
      "       nan       nan       nan       nan       nan       nan       nan\n",
      "       nan       nan       nan       nan       nan       nan       nan\n",
      "       nan       nan       nan       nan       nan       nan       nan\n",
      "       nan       nan       nan       nan       nan       nan       nan\n",
      "       nan       nan       nan       nan       nan       nan       nan\n",
      "       nan       nan       nan       nan       nan       nan       nan\n",
      "       nan       nan       nan       nan       nan       nan       nan\n",
      "       nan       nan       nan       nan       nan       nan       nan\n",
      "       nan       nan       nan       nan       nan       nan       nan\n",
      "       nan       nan       nan       nan       nan       nan       nan\n",
      "       nan       nan       nan       nan       nan       nan       nan\n",
      "       nan       nan       nan       nan       nan       nan       nan\n",
      "       nan       nan       nan       nan       nan       nan       nan\n",
      "       nan       nan       nan       nan       nan       nan       nan\n",
      "       nan       nan       nan       nan       nan       nan       nan\n",
      "       nan       nan       nan       nan       nan       nan       nan\n",
      "       nan       nan       nan       nan       nan       nan       nan\n",
      "       nan       nan       nan       nan       nan       nan       nan\n",
      "       nan       nan       nan       nan       nan       nan       nan\n",
      "       nan       nan       nan       nan       nan       nan       nan\n",
      "       nan       nan       nan       nan       nan       nan       nan\n",
      "       nan       nan       nan       nan       nan       nan       nan\n",
      "       nan       nan       nan       nan       nan       nan       nan\n",
      "       nan       nan       nan       nan       nan       nan       nan\n",
      "       nan       nan       nan       nan       nan       nan       nan\n",
      "       nan       nan       nan       nan       nan       nan       nan\n",
      "       nan       nan       nan       nan       nan       nan       nan\n",
      "       nan       nan       nan       nan       nan       nan       nan\n",
      "       nan       nan       nan       nan       nan       nan       nan\n",
      "       nan       nan       nan       nan       nan       nan       nan\n",
      "       nan       nan       nan       nan       nan       nan       nan\n",
      "       nan       nan       nan       nan       nan       nan       nan\n",
      "       nan       nan       nan       nan       nan       nan       nan\n",
      "       nan       nan       nan       nan       nan       nan       nan\n",
      "       nan       nan       nan       nan       nan       nan       nan\n",
      "       nan       nan       nan       nan       nan       nan       nan\n",
      "       nan       nan       nan       nan       nan       nan       nan\n",
      "       nan       nan       nan       nan       nan       nan       nan\n",
      "       nan       nan       nan       nan       nan       nan       nan\n",
      "       nan       nan       nan       nan       nan       nan       nan\n",
      "       nan       nan       nan       nan       nan       nan       nan\n",
      "       nan       nan       nan       nan       nan       nan       nan\n",
      "       nan       nan       nan]\n",
      "[    0.    -5.   -10.   -15.   -20.   -25.   -30.   -35.   -40.   -45.\n",
      "   -50.   -55.   -60.   -65.   -70.   -75.   -80.   -85.   -90.   -95.\n",
      "  -100.  -105.  -110.  -115.  -120.  -125.  -130.  -135.  -140.  -145.\n",
      "  -150.  -155.  -160.  -165.  -170.  -175.  -180.  -185.  -190.  -195.\n",
      "  -200.  -205.  -210.  -215.  -220.  -225.  -230.  -235.  -240.  -245.\n",
      "  -250.  -255.  -260.  -265.  -270.  -275.  -280.  -285.  -290.  -295.\n",
      "  -300.  -305.  -310.  -315.  -320.  -325.  -330.  -335.  -340.  -345.\n",
      "  -350.  -355.  -360.  -365.  -370.  -375.  -380.  -385.  -390.  -395.\n",
      "  -400.  -405.  -410.  -415.  -420.  -425.  -430.  -435.  -440.  -445.\n",
      "  -450.  -455.  -460.  -465.  -470.  -475.  -480.  -485.  -490.  -495.\n",
      "  -500.  -505.  -510.  -515.  -520.  -525.  -530.  -535.  -540.  -545.\n",
      "  -550.  -555.  -560.  -565.  -570.  -575.  -580.  -585.  -590.  -595.\n",
      "  -600.  -605.  -610.  -615.  -620.  -625.  -630.  -635.  -640.  -645.\n",
      "  -650.  -655.  -660.  -665.  -670.  -675.  -680.  -685.  -690.  -695.\n",
      "  -700.  -705.  -710.  -715.  -720.  -725.  -730.  -735.  -740.  -745.\n",
      "  -750.  -755.  -760.  -765.  -770.  -775.  -780.  -785.  -790.  -795.\n",
      "  -800.  -805.  -810.  -815.  -820.  -825.  -830.  -835.  -840.  -845.\n",
      "  -850.  -855.  -860.  -865.  -870.  -875.  -880.  -885.  -890.  -895.\n",
      "  -900.  -905.  -910.  -915.  -920.  -925.  -930.  -935.  -940.  -945.\n",
      "  -950.  -955.  -960.  -965.  -970.  -975.  -980.  -985.  -990.  -995.\n",
      " -1000. -1005. -1010. -1015. -1020. -1025. -1030. -1035. -1040. -1045.\n",
      " -1050. -1055. -1060. -1065. -1070. -1075. -1080. -1085. -1090. -1095.\n",
      " -1100. -1105. -1110. -1115. -1120. -1125. -1130. -1135. -1140. -1145.\n",
      " -1150. -1155. -1160. -1165. -1170. -1175. -1180. -1185. -1190. -1195.\n",
      " -1200. -1205. -1210. -1215. -1220. -1225. -1230. -1235. -1240. -1245.\n",
      " -1250. -1255. -1260. -1265. -1270. -1275. -1280. -1285. -1290. -1295.\n",
      " -1300. -1305. -1310. -1315. -1320. -1325. -1330. -1335. -1340. -1345.\n",
      " -1350. -1355. -1360. -1365. -1370. -1375. -1380. -1385. -1390. -1395.\n",
      " -1400. -1405. -1410. -1415. -1420. -1425. -1430. -1435. -1440. -1445.\n",
      " -1450. -1455. -1460. -1465. -1470. -1475. -1480. -1485. -1490. -1495.\n",
      " -1500. -1505. -1510. -1515. -1520. -1525. -1530. -1535. -1540. -1545.\n",
      " -1550. -1555. -1560. -1565. -1570. -1575. -1580. -1585. -1590. -1595.\n",
      " -1600. -1605. -1610. -1615. -1620. -1625. -1630. -1635. -1640. -1645.\n",
      " -1650. -1655. -1660. -1665. -1670. -1675. -1680. -1685. -1690. -1695.\n",
      " -1700. -1705. -1710. -1715. -1720. -1725. -1730. -1735. -1740. -1745.\n",
      " -1750. -1755. -1760. -1765. -1770. -1775. -1780. -1785. -1790. -1795.\n",
      " -1800. -1805. -1810. -1815. -1820. -1825. -1830. -1835. -1840. -1845.\n",
      " -1850. -1855. -1860. -1865. -1870. -1875. -1880. -1885. -1890. -1895.\n",
      " -1900. -1905. -1910. -1915. -1920. -1925. -1930. -1935. -1940. -1945.\n",
      " -1950. -1955. -1960. -1965. -1970. -1975. -1980. -1985. -1990. -1995.\n",
      " -2000. -2005.]\n"
     ]
    }
   ],
   "source": [
    "idx = np.max(np.where(np.logical_and(lon <=61 , lat <= 23 )))\n",
    "print(idx)\n",
    "print(Sanc[idx,:])\n",
    "print(zanc[idx,:])"
   ]
  },
  {
   "cell_type": "code",
   "execution_count": 5,
   "id": "94e106b3",
   "metadata": {},
   "outputs": [],
   "source": [
    "# Inititaion des variables \n",
    "\n",
    "Spr= Sanc[idx,:]\n",
    "Tpr= Tanc[idx,:]\n",
    "dens_ano_pr= Dens_ano[idx,:]\n",
    "spi_ano_pr = sp_ano[idx,:].data\n",
    "z_pr = zanc[idx,:]\n",
    "\n",
    "#remplacer les nans\n",
    "#Spr[np.isnan(Spr)]= 9999\n",
    "#Tpr[np.isnan(Tpr)]= 9999\n",
    "#dens_ano_pr[np.isnan(dens_ano_pr)]= 9999\n",
    "#spi_ano_pr[np.isnan(spi_ano_pr)]= 9999\n"
   ]
  },
  {
   "cell_type": "markdown",
   "id": "fd804975",
   "metadata": {},
   "source": [
    " # DataFrame pour le profil IDX"
   ]
  },
  {
   "cell_type": "code",
   "execution_count": 6,
   "id": "192e296c",
   "metadata": {},
   "outputs": [
    {
     "data": {
      "text/html": [
       "<div>\n",
       "<style scoped>\n",
       "    .dataframe tbody tr th:only-of-type {\n",
       "        vertical-align: middle;\n",
       "    }\n",
       "\n",
       "    .dataframe tbody tr th {\n",
       "        vertical-align: top;\n",
       "    }\n",
       "\n",
       "    .dataframe thead th {\n",
       "        text-align: right;\n",
       "    }\n",
       "</style>\n",
       "<table border=\"1\" class=\"dataframe\">\n",
       "  <thead>\n",
       "    <tr style=\"text-align: right;\">\n",
       "      <th></th>\n",
       "      <th>Depth</th>\n",
       "      <th>Temperature</th>\n",
       "      <th>Salinity</th>\n",
       "      <th>Density</th>\n",
       "      <th>Density Anomaly</th>\n",
       "      <th>Spiciness Anomaly</th>\n",
       "    </tr>\n",
       "  </thead>\n",
       "  <tbody>\n",
       "    <tr>\n",
       "      <th>0</th>\n",
       "      <td>0.0</td>\n",
       "      <td>NaN</td>\n",
       "      <td>NaN</td>\n",
       "      <td>NaN</td>\n",
       "      <td>NaN</td>\n",
       "      <td>NaN</td>\n",
       "    </tr>\n",
       "    <tr>\n",
       "      <th>1</th>\n",
       "      <td>-5.0</td>\n",
       "      <td>NaN</td>\n",
       "      <td>NaN</td>\n",
       "      <td>NaN</td>\n",
       "      <td>NaN</td>\n",
       "      <td>NaN</td>\n",
       "    </tr>\n",
       "    <tr>\n",
       "      <th>2</th>\n",
       "      <td>-10.0</td>\n",
       "      <td>26.649944</td>\n",
       "      <td>35.892368</td>\n",
       "      <td>23.503546</td>\n",
       "      <td>0.111938</td>\n",
       "      <td>-0.480490</td>\n",
       "    </tr>\n",
       "    <tr>\n",
       "      <th>3</th>\n",
       "      <td>-15.0</td>\n",
       "      <td>26.617769</td>\n",
       "      <td>35.876305</td>\n",
       "      <td>23.502052</td>\n",
       "      <td>0.056480</td>\n",
       "      <td>-0.454501</td>\n",
       "    </tr>\n",
       "    <tr>\n",
       "      <th>4</th>\n",
       "      <td>-20.0</td>\n",
       "      <td>26.586895</td>\n",
       "      <td>35.888584</td>\n",
       "      <td>23.521507</td>\n",
       "      <td>0.015493</td>\n",
       "      <td>-0.389119</td>\n",
       "    </tr>\n",
       "    <tr>\n",
       "      <th>...</th>\n",
       "      <td>...</td>\n",
       "      <td>...</td>\n",
       "      <td>...</td>\n",
       "      <td>...</td>\n",
       "      <td>...</td>\n",
       "      <td>...</td>\n",
       "    </tr>\n",
       "    <tr>\n",
       "      <th>397</th>\n",
       "      <td>-1985.0</td>\n",
       "      <td>NaN</td>\n",
       "      <td>NaN</td>\n",
       "      <td>NaN</td>\n",
       "      <td>NaN</td>\n",
       "      <td>NaN</td>\n",
       "    </tr>\n",
       "    <tr>\n",
       "      <th>398</th>\n",
       "      <td>-1990.0</td>\n",
       "      <td>NaN</td>\n",
       "      <td>NaN</td>\n",
       "      <td>NaN</td>\n",
       "      <td>NaN</td>\n",
       "      <td>NaN</td>\n",
       "    </tr>\n",
       "    <tr>\n",
       "      <th>399</th>\n",
       "      <td>-1995.0</td>\n",
       "      <td>NaN</td>\n",
       "      <td>NaN</td>\n",
       "      <td>NaN</td>\n",
       "      <td>NaN</td>\n",
       "      <td>NaN</td>\n",
       "    </tr>\n",
       "    <tr>\n",
       "      <th>400</th>\n",
       "      <td>-2000.0</td>\n",
       "      <td>NaN</td>\n",
       "      <td>NaN</td>\n",
       "      <td>NaN</td>\n",
       "      <td>NaN</td>\n",
       "      <td>NaN</td>\n",
       "    </tr>\n",
       "    <tr>\n",
       "      <th>401</th>\n",
       "      <td>-2005.0</td>\n",
       "      <td>NaN</td>\n",
       "      <td>NaN</td>\n",
       "      <td>NaN</td>\n",
       "      <td>NaN</td>\n",
       "      <td>NaN</td>\n",
       "    </tr>\n",
       "  </tbody>\n",
       "</table>\n",
       "<p>402 rows × 6 columns</p>\n",
       "</div>"
      ],
      "text/plain": [
       "      Depth  Temperature   Salinity    Density  Density Anomaly  \\\n",
       "0       0.0          NaN        NaN        NaN              NaN   \n",
       "1      -5.0          NaN        NaN        NaN              NaN   \n",
       "2     -10.0    26.649944  35.892368  23.503546         0.111938   \n",
       "3     -15.0    26.617769  35.876305  23.502052         0.056480   \n",
       "4     -20.0    26.586895  35.888584  23.521507         0.015493   \n",
       "..      ...          ...        ...        ...              ...   \n",
       "397 -1985.0          NaN        NaN        NaN              NaN   \n",
       "398 -1990.0          NaN        NaN        NaN              NaN   \n",
       "399 -1995.0          NaN        NaN        NaN              NaN   \n",
       "400 -2000.0          NaN        NaN        NaN              NaN   \n",
       "401 -2005.0          NaN        NaN        NaN              NaN   \n",
       "\n",
       "     Spiciness Anomaly  \n",
       "0                  NaN  \n",
       "1                  NaN  \n",
       "2            -0.480490  \n",
       "3            -0.454501  \n",
       "4            -0.389119  \n",
       "..                 ...  \n",
       "397                NaN  \n",
       "398                NaN  \n",
       "399                NaN  \n",
       "400                NaN  \n",
       "401                NaN  \n",
       "\n",
       "[402 rows x 6 columns]"
      ]
     },
     "execution_count": 6,
     "metadata": {},
     "output_type": "execute_result"
    }
   ],
   "source": [
    "data = pd.DataFrame(list(zip(z_pr,Tpr,Spr,Dens[idx,:],dens_ano_pr,spi_ano_pr)),\n",
    "               columns =['Depth','Temperature','Salinity','Density','Density Anomaly','Spiciness Anomaly'])\n",
    "X = pd.DataFrame(data)\n",
    "# Observe the result\n",
    "X"
   ]
  },
  {
   "cell_type": "code",
   "execution_count": 7,
   "id": "6eb50ffa",
   "metadata": {},
   "outputs": [
    {
     "name": "stderr",
     "output_type": "stream",
     "text": [
      "C:\\Users\\beyas\\AppData\\Local\\Temp\\ipykernel_6148\\3112839600.py:4: FutureWarning: In a future version of pandas all arguments of DataFrame.drop except for the argument 'labels' will be keyword-only.\n",
      "  X.drop(index_with_nan,0, inplace=True)\n"
     ]
    },
    {
     "data": {
      "text/html": [
       "<div>\n",
       "<style scoped>\n",
       "    .dataframe tbody tr th:only-of-type {\n",
       "        vertical-align: middle;\n",
       "    }\n",
       "\n",
       "    .dataframe tbody tr th {\n",
       "        vertical-align: top;\n",
       "    }\n",
       "\n",
       "    .dataframe thead th {\n",
       "        text-align: right;\n",
       "    }\n",
       "</style>\n",
       "<table border=\"1\" class=\"dataframe\">\n",
       "  <thead>\n",
       "    <tr style=\"text-align: right;\">\n",
       "      <th></th>\n",
       "      <th>Depth</th>\n",
       "      <th>Temperature</th>\n",
       "      <th>Salinity</th>\n",
       "      <th>Density</th>\n",
       "      <th>Density Anomaly</th>\n",
       "      <th>Spiciness Anomaly</th>\n",
       "    </tr>\n",
       "  </thead>\n",
       "  <tbody>\n",
       "    <tr>\n",
       "      <th>2</th>\n",
       "      <td>-10.0</td>\n",
       "      <td>26.649944</td>\n",
       "      <td>35.892368</td>\n",
       "      <td>23.503546</td>\n",
       "      <td>0.111938</td>\n",
       "      <td>-0.480490</td>\n",
       "    </tr>\n",
       "    <tr>\n",
       "      <th>3</th>\n",
       "      <td>-15.0</td>\n",
       "      <td>26.617769</td>\n",
       "      <td>35.876305</td>\n",
       "      <td>23.502052</td>\n",
       "      <td>0.056480</td>\n",
       "      <td>-0.454501</td>\n",
       "    </tr>\n",
       "    <tr>\n",
       "      <th>4</th>\n",
       "      <td>-20.0</td>\n",
       "      <td>26.586895</td>\n",
       "      <td>35.888584</td>\n",
       "      <td>23.521507</td>\n",
       "      <td>0.015493</td>\n",
       "      <td>-0.389119</td>\n",
       "    </tr>\n",
       "    <tr>\n",
       "      <th>5</th>\n",
       "      <td>-25.0</td>\n",
       "      <td>26.563639</td>\n",
       "      <td>35.895313</td>\n",
       "      <td>23.534372</td>\n",
       "      <td>-0.063244</td>\n",
       "      <td>-0.260825</td>\n",
       "    </tr>\n",
       "    <tr>\n",
       "      <th>6</th>\n",
       "      <td>-30.0</td>\n",
       "      <td>26.556999</td>\n",
       "      <td>35.910000</td>\n",
       "      <td>23.547962</td>\n",
       "      <td>-0.172590</td>\n",
       "      <td>-0.084824</td>\n",
       "    </tr>\n",
       "    <tr>\n",
       "      <th>7</th>\n",
       "      <td>-35.0</td>\n",
       "      <td>24.929968</td>\n",
       "      <td>35.838882</td>\n",
       "      <td>23.998837</td>\n",
       "      <td>0.107483</td>\n",
       "      <td>-0.382463</td>\n",
       "    </tr>\n",
       "    <tr>\n",
       "      <th>8</th>\n",
       "      <td>-40.0</td>\n",
       "      <td>23.327440</td>\n",
       "      <td>35.657028</td>\n",
       "      <td>24.339861</td>\n",
       "      <td>0.289288</td>\n",
       "      <td>-0.763207</td>\n",
       "    </tr>\n",
       "    <tr>\n",
       "      <th>9</th>\n",
       "      <td>-45.0</td>\n",
       "      <td>22.522326</td>\n",
       "      <td>35.585949</td>\n",
       "      <td>24.520813</td>\n",
       "      <td>0.346197</td>\n",
       "      <td>-0.870979</td>\n",
       "    </tr>\n",
       "    <tr>\n",
       "      <th>10</th>\n",
       "      <td>-50.0</td>\n",
       "      <td>21.110250</td>\n",
       "      <td>35.580391</td>\n",
       "      <td>24.911869</td>\n",
       "      <td>0.613546</td>\n",
       "      <td>-1.096691</td>\n",
       "    </tr>\n",
       "    <tr>\n",
       "      <th>11</th>\n",
       "      <td>-55.0</td>\n",
       "      <td>20.592463</td>\n",
       "      <td>35.569012</td>\n",
       "      <td>25.044153</td>\n",
       "      <td>0.640343</td>\n",
       "      <td>-1.117581</td>\n",
       "    </tr>\n",
       "    <tr>\n",
       "      <th>12</th>\n",
       "      <td>-60.0</td>\n",
       "      <td>20.304367</td>\n",
       "      <td>35.613655</td>\n",
       "      <td>25.155819</td>\n",
       "      <td>0.657183</td>\n",
       "      <td>-1.040618</td>\n",
       "    </tr>\n",
       "    <tr>\n",
       "      <th>13</th>\n",
       "      <td>-65.0</td>\n",
       "      <td>19.732452</td>\n",
       "      <td>35.644444</td>\n",
       "      <td>25.331013</td>\n",
       "      <td>0.742798</td>\n",
       "      <td>-1.058304</td>\n",
       "    </tr>\n",
       "    <tr>\n",
       "      <th>14</th>\n",
       "      <td>-70.0</td>\n",
       "      <td>19.223589</td>\n",
       "      <td>35.639313</td>\n",
       "      <td>25.459751</td>\n",
       "      <td>0.776083</td>\n",
       "      <td>-1.070377</td>\n",
       "    </tr>\n",
       "    <tr>\n",
       "      <th>15</th>\n",
       "      <td>-75.0</td>\n",
       "      <td>19.040003</td>\n",
       "      <td>35.642288</td>\n",
       "      <td>25.509552</td>\n",
       "      <td>0.734169</td>\n",
       "      <td>-0.995445</td>\n",
       "    </tr>\n",
       "    <tr>\n",
       "      <th>16</th>\n",
       "      <td>-80.0</td>\n",
       "      <td>18.945465</td>\n",
       "      <td>35.610577</td>\n",
       "      <td>25.509823</td>\n",
       "      <td>0.642721</td>\n",
       "      <td>-0.933303</td>\n",
       "    </tr>\n",
       "    <tr>\n",
       "      <th>17</th>\n",
       "      <td>-85.0</td>\n",
       "      <td>18.393072</td>\n",
       "      <td>35.574566</td>\n",
       "      <td>25.622356</td>\n",
       "      <td>0.662724</td>\n",
       "      <td>-0.995737</td>\n",
       "    </tr>\n",
       "  </tbody>\n",
       "</table>\n",
       "</div>"
      ],
      "text/plain": [
       "    Depth  Temperature   Salinity    Density  Density Anomaly  \\\n",
       "2   -10.0    26.649944  35.892368  23.503546         0.111938   \n",
       "3   -15.0    26.617769  35.876305  23.502052         0.056480   \n",
       "4   -20.0    26.586895  35.888584  23.521507         0.015493   \n",
       "5   -25.0    26.563639  35.895313  23.534372        -0.063244   \n",
       "6   -30.0    26.556999  35.910000  23.547962        -0.172590   \n",
       "7   -35.0    24.929968  35.838882  23.998837         0.107483   \n",
       "8   -40.0    23.327440  35.657028  24.339861         0.289288   \n",
       "9   -45.0    22.522326  35.585949  24.520813         0.346197   \n",
       "10  -50.0    21.110250  35.580391  24.911869         0.613546   \n",
       "11  -55.0    20.592463  35.569012  25.044153         0.640343   \n",
       "12  -60.0    20.304367  35.613655  25.155819         0.657183   \n",
       "13  -65.0    19.732452  35.644444  25.331013         0.742798   \n",
       "14  -70.0    19.223589  35.639313  25.459751         0.776083   \n",
       "15  -75.0    19.040003  35.642288  25.509552         0.734169   \n",
       "16  -80.0    18.945465  35.610577  25.509823         0.642721   \n",
       "17  -85.0    18.393072  35.574566  25.622356         0.662724   \n",
       "\n",
       "    Spiciness Anomaly  \n",
       "2           -0.480490  \n",
       "3           -0.454501  \n",
       "4           -0.389119  \n",
       "5           -0.260825  \n",
       "6           -0.084824  \n",
       "7           -0.382463  \n",
       "8           -0.763207  \n",
       "9           -0.870979  \n",
       "10          -1.096691  \n",
       "11          -1.117581  \n",
       "12          -1.040618  \n",
       "13          -1.058304  \n",
       "14          -1.070377  \n",
       "15          -0.995445  \n",
       "16          -0.933303  \n",
       "17          -0.995737  "
      ]
     },
     "execution_count": 7,
     "metadata": {},
     "output_type": "execute_result"
    }
   ],
   "source": [
    "## suppression des lignes contenant des Nans de LA DataFrame\n",
    "\n",
    "index_with_nan = X.index[X.isnull().any(axis=1)]\n",
    "X.drop(index_with_nan,0, inplace=True) \n",
    "X"
   ]
  },
  {
   "cell_type": "markdown",
   "id": "08a1e0ca",
   "metadata": {},
   "source": [
    "# KMEANS pour IDX"
   ]
  },
  {
   "cell_type": "code",
   "execution_count": 8,
   "id": "da357671",
   "metadata": {},
   "outputs": [
    {
     "data": {
      "text/plain": [
       "KMeans(n_clusters=2)"
      ]
     },
     "execution_count": 8,
     "metadata": {},
     "output_type": "execute_result"
    }
   ],
   "source": [
    "km = KMeans(n_clusters= 2)\n",
    "km"
   ]
  },
  {
   "cell_type": "code",
   "execution_count": 9,
   "id": "29f2922a",
   "metadata": {},
   "outputs": [
    {
     "data": {
      "text/plain": [
       "array([0, 0, 0, 0, 0, 0, 1, 1, 1, 1, 1, 1, 1, 1, 1, 1])"
      ]
     },
     "execution_count": 9,
     "metadata": {},
     "output_type": "execute_result"
    }
   ],
   "source": [
    "y_pred=km.fit_predict(X[['Spiciness Anomaly','Density Anomaly']])\n",
    "y_pred"
   ]
  },
  {
   "cell_type": "code",
   "execution_count": 10,
   "id": "a34c25c5",
   "metadata": {},
   "outputs": [
    {
     "data": {
      "text/html": [
       "<div>\n",
       "<style scoped>\n",
       "    .dataframe tbody tr th:only-of-type {\n",
       "        vertical-align: middle;\n",
       "    }\n",
       "\n",
       "    .dataframe tbody tr th {\n",
       "        vertical-align: top;\n",
       "    }\n",
       "\n",
       "    .dataframe thead th {\n",
       "        text-align: right;\n",
       "    }\n",
       "</style>\n",
       "<table border=\"1\" class=\"dataframe\">\n",
       "  <thead>\n",
       "    <tr style=\"text-align: right;\">\n",
       "      <th></th>\n",
       "      <th>Depth</th>\n",
       "      <th>Temperature</th>\n",
       "      <th>Salinity</th>\n",
       "      <th>Density</th>\n",
       "      <th>Density Anomaly</th>\n",
       "      <th>Spiciness Anomaly</th>\n",
       "      <th>cluster</th>\n",
       "    </tr>\n",
       "  </thead>\n",
       "  <tbody>\n",
       "    <tr>\n",
       "      <th>2</th>\n",
       "      <td>-10.0</td>\n",
       "      <td>26.649944</td>\n",
       "      <td>35.892368</td>\n",
       "      <td>23.503546</td>\n",
       "      <td>0.111938</td>\n",
       "      <td>-0.480490</td>\n",
       "      <td>0</td>\n",
       "    </tr>\n",
       "    <tr>\n",
       "      <th>3</th>\n",
       "      <td>-15.0</td>\n",
       "      <td>26.617769</td>\n",
       "      <td>35.876305</td>\n",
       "      <td>23.502052</td>\n",
       "      <td>0.056480</td>\n",
       "      <td>-0.454501</td>\n",
       "      <td>0</td>\n",
       "    </tr>\n",
       "    <tr>\n",
       "      <th>4</th>\n",
       "      <td>-20.0</td>\n",
       "      <td>26.586895</td>\n",
       "      <td>35.888584</td>\n",
       "      <td>23.521507</td>\n",
       "      <td>0.015493</td>\n",
       "      <td>-0.389119</td>\n",
       "      <td>0</td>\n",
       "    </tr>\n",
       "    <tr>\n",
       "      <th>5</th>\n",
       "      <td>-25.0</td>\n",
       "      <td>26.563639</td>\n",
       "      <td>35.895313</td>\n",
       "      <td>23.534372</td>\n",
       "      <td>-0.063244</td>\n",
       "      <td>-0.260825</td>\n",
       "      <td>0</td>\n",
       "    </tr>\n",
       "    <tr>\n",
       "      <th>6</th>\n",
       "      <td>-30.0</td>\n",
       "      <td>26.556999</td>\n",
       "      <td>35.910000</td>\n",
       "      <td>23.547962</td>\n",
       "      <td>-0.172590</td>\n",
       "      <td>-0.084824</td>\n",
       "      <td>0</td>\n",
       "    </tr>\n",
       "  </tbody>\n",
       "</table>\n",
       "</div>"
      ],
      "text/plain": [
       "   Depth  Temperature   Salinity    Density  Density Anomaly  \\\n",
       "2  -10.0    26.649944  35.892368  23.503546         0.111938   \n",
       "3  -15.0    26.617769  35.876305  23.502052         0.056480   \n",
       "4  -20.0    26.586895  35.888584  23.521507         0.015493   \n",
       "5  -25.0    26.563639  35.895313  23.534372        -0.063244   \n",
       "6  -30.0    26.556999  35.910000  23.547962        -0.172590   \n",
       "\n",
       "   Spiciness Anomaly  cluster  \n",
       "2          -0.480490        0  \n",
       "3          -0.454501        0  \n",
       "4          -0.389119        0  \n",
       "5          -0.260825        0  \n",
       "6          -0.084824        0  "
      ]
     },
     "execution_count": 10,
     "metadata": {},
     "output_type": "execute_result"
    }
   ],
   "source": [
    "X['cluster']= y_pred\n",
    "X.head()"
   ]
  },
  {
   "cell_type": "code",
   "execution_count": 11,
   "id": "7cf9afff",
   "metadata": {},
   "outputs": [
    {
     "data": {
      "text/plain": [
       "array([[-0.34203714,  0.00926018],\n",
       "       [-0.99422418,  0.6105051 ]])"
      ]
     },
     "execution_count": 11,
     "metadata": {},
     "output_type": "execute_result"
    }
   ],
   "source": [
    "km.cluster_centers_"
   ]
  },
  {
   "cell_type": "code",
   "execution_count": 12,
   "id": "665e0f7a",
   "metadata": {},
   "outputs": [
    {
     "data": {
      "text/plain": [
       "<matplotlib.legend.Legend at 0x1de3b346cd0>"
      ]
     },
     "execution_count": 12,
     "metadata": {},
     "output_type": "execute_result"
    },
    {
     "data": {
      "image/png": "[encoded data removed]",
      "text/plain": [
       "<Figure size 432x288 with 1 Axes>"
      ]
     },
     "metadata": {
      "needs_background": "light"
     },
     "output_type": "display_data"
    }
   ],
   "source": [
    "X1  = X[X.cluster==0]\n",
    "\n",
    "X2  = X[X.cluster==1]\n",
    "#X3  = X[X.cluster==2]\n",
    "\n",
    "\n",
    "plt.scatter(X1['Spiciness Anomaly'],X1['Density Anomaly'], color= 'green')\n",
    "plt.scatter(X2['Spiciness Anomaly'],X2['Density Anomaly'], color= 'blue')\n",
    "#plt.scatter(X3['Spiciness Anomaly'],X3['Density Anomaly'], color= 'black')\n",
    "\n",
    "plt.scatter(km.cluster_centers_[:,0],km.cluster_centers_[:,1],color = 'black',marker='+', label='centroid')\n",
    "\n",
    "plt.xlabel('Density anomaly')\n",
    "plt.ylabel('Spiciness anomaly')\n",
    "plt.legend()"
   ]
  },
  {
   "cell_type": "code",
   "execution_count": 13,
   "id": "73f8bcb8",
   "metadata": {},
   "outputs": [
    {
     "name": "stderr",
     "output_type": "stream",
     "text": [
      "C:\\Users\\beyas\\miniconda3\\lib\\site-packages\\sklearn\\cluster\\_kmeans.py:1036: UserWarning: KMeans is known to have a memory leak on Windows with MKL, when there are less chunks than available threads. You can avoid it by setting the environment variable OMP_NUM_THREADS=1.\n",
      "  warnings.warn(\n"
     ]
    },
    {
     "name": "stdout",
     "output_type": "stream",
     "text": [
      "[3.470010550497438, 0.5193478112186822, 0.22663409368784804, 0.09221353964493934, 0.0704199962588991, 0.048953463737510944, 0.031249916018284425, 0.0238230799351081, 0.016631289321937946]\n"
     ]
    },
    {
     "data": {
      "text/plain": [
       "[<matplotlib.lines.Line2D at 0x1de3d49f4c0>]"
      ]
     },
     "execution_count": 13,
     "metadata": {},
     "output_type": "execute_result"
    },
    {
     "data": {
      "image/png": "[encoded data removed]",
      "text/plain": [
       "<Figure size 432x288 with 1 Axes>"
      ]
     },
     "metadata": {
      "needs_background": "light"
     },
     "output_type": "display_data"
    }
   ],
   "source": [
    "k_rng = range(1,10)\n",
    "sse=[]\n",
    "for k in k_rng:\n",
    "    km= KMeans(n_clusters=k)\n",
    "    km.fit(X[['Spiciness Anomaly','Density Anomaly']])\n",
    "#if km.inertia_ <= 1 :\n",
    "    sse.append(km.inertia_)\n",
    "    #else :\n",
    "    #pass \n",
    "print(sse)\n",
    "\n",
    "plt.xlabel('k')\n",
    "plt.ylabel('SSE')\n",
    "plt.plot(k_rng,sse)"
   ]
  },
  {
   "cell_type": "code",
   "execution_count": null,
   "id": "862f792c",
   "metadata": {},
   "outputs": [],
   "source": []
  },
  {
   "cell_type": "markdown",
   "id": "08b2b114",
   "metadata": {},
   "source": [
    "##  TEMPERATURE - SALINTY"
   ]
  },
  {
   "cell_type": "code",
   "execution_count": 14,
   "id": "8aac3c1d",
   "metadata": {},
   "outputs": [
    {
     "data": {
      "text/plain": [
       "KMeans(n_clusters=2)"
      ]
     },
     "execution_count": 14,
     "metadata": {},
     "output_type": "execute_result"
    }
   ],
   "source": [
    "km = KMeans(n_clusters= 2)\n",
    "km"
   ]
  },
  {
   "cell_type": "code",
   "execution_count": 15,
   "id": "effe9342",
   "metadata": {},
   "outputs": [
    {
     "data": {
      "text/plain": [
       "array([0, 0, 0, 0, 0, 0, 0, 1, 1, 1, 1, 1, 1, 1, 1, 1])"
      ]
     },
     "execution_count": 15,
     "metadata": {},
     "output_type": "execute_result"
    }
   ],
   "source": [
    "y_pred=km.fit_predict(X[['Temperature','Salinity']])\n",
    "y_pred"
   ]
  },
  {
   "cell_type": "code",
   "execution_count": 16,
   "id": "7fd1a27e",
   "metadata": {},
   "outputs": [
    {
     "data": {
      "text/html": [
       "<div>\n",
       "<style scoped>\n",
       "    .dataframe tbody tr th:only-of-type {\n",
       "        vertical-align: middle;\n",
       "    }\n",
       "\n",
       "    .dataframe tbody tr th {\n",
       "        vertical-align: top;\n",
       "    }\n",
       "\n",
       "    .dataframe thead th {\n",
       "        text-align: right;\n",
       "    }\n",
       "</style>\n",
       "<table border=\"1\" class=\"dataframe\">\n",
       "  <thead>\n",
       "    <tr style=\"text-align: right;\">\n",
       "      <th></th>\n",
       "      <th>Depth</th>\n",
       "      <th>Temperature</th>\n",
       "      <th>Salinity</th>\n",
       "      <th>Density</th>\n",
       "      <th>Density Anomaly</th>\n",
       "      <th>Spiciness Anomaly</th>\n",
       "      <th>cluster</th>\n",
       "      <th>clusterTS</th>\n",
       "    </tr>\n",
       "  </thead>\n",
       "  <tbody>\n",
       "    <tr>\n",
       "      <th>2</th>\n",
       "      <td>-10.0</td>\n",
       "      <td>26.649944</td>\n",
       "      <td>35.892368</td>\n",
       "      <td>23.503546</td>\n",
       "      <td>0.111938</td>\n",
       "      <td>-0.480490</td>\n",
       "      <td>0</td>\n",
       "      <td>0</td>\n",
       "    </tr>\n",
       "    <tr>\n",
       "      <th>3</th>\n",
       "      <td>-15.0</td>\n",
       "      <td>26.617769</td>\n",
       "      <td>35.876305</td>\n",
       "      <td>23.502052</td>\n",
       "      <td>0.056480</td>\n",
       "      <td>-0.454501</td>\n",
       "      <td>0</td>\n",
       "      <td>0</td>\n",
       "    </tr>\n",
       "    <tr>\n",
       "      <th>4</th>\n",
       "      <td>-20.0</td>\n",
       "      <td>26.586895</td>\n",
       "      <td>35.888584</td>\n",
       "      <td>23.521507</td>\n",
       "      <td>0.015493</td>\n",
       "      <td>-0.389119</td>\n",
       "      <td>0</td>\n",
       "      <td>0</td>\n",
       "    </tr>\n",
       "    <tr>\n",
       "      <th>5</th>\n",
       "      <td>-25.0</td>\n",
       "      <td>26.563639</td>\n",
       "      <td>35.895313</td>\n",
       "      <td>23.534372</td>\n",
       "      <td>-0.063244</td>\n",
       "      <td>-0.260825</td>\n",
       "      <td>0</td>\n",
       "      <td>0</td>\n",
       "    </tr>\n",
       "    <tr>\n",
       "      <th>6</th>\n",
       "      <td>-30.0</td>\n",
       "      <td>26.556999</td>\n",
       "      <td>35.910000</td>\n",
       "      <td>23.547962</td>\n",
       "      <td>-0.172590</td>\n",
       "      <td>-0.084824</td>\n",
       "      <td>0</td>\n",
       "      <td>0</td>\n",
       "    </tr>\n",
       "  </tbody>\n",
       "</table>\n",
       "</div>"
      ],
      "text/plain": [
       "   Depth  Temperature   Salinity    Density  Density Anomaly  \\\n",
       "2  -10.0    26.649944  35.892368  23.503546         0.111938   \n",
       "3  -15.0    26.617769  35.876305  23.502052         0.056480   \n",
       "4  -20.0    26.586895  35.888584  23.521507         0.015493   \n",
       "5  -25.0    26.563639  35.895313  23.534372        -0.063244   \n",
       "6  -30.0    26.556999  35.910000  23.547962        -0.172590   \n",
       "\n",
       "   Spiciness Anomaly  cluster  clusterTS  \n",
       "2          -0.480490        0          0  \n",
       "3          -0.454501        0          0  \n",
       "4          -0.389119        0          0  \n",
       "5          -0.260825        0          0  \n",
       "6          -0.084824        0          0  "
      ]
     },
     "execution_count": 16,
     "metadata": {},
     "output_type": "execute_result"
    }
   ],
   "source": [
    "X['clusterTS']= y_pred\n",
    "X.head()"
   ]
  },
  {
   "cell_type": "code",
   "execution_count": null,
   "id": "ca4163c6",
   "metadata": {},
   "outputs": [],
   "source": [
    "        "
   ]
  },
  {
   "cell_type": "code",
   "execution_count": 17,
   "id": "d139f4ad",
   "metadata": {},
   "outputs": [
    {
     "data": {
      "text/plain": [
       "<matplotlib.legend.Legend at 0x1de3d529250>"
      ]
     },
     "execution_count": 17,
     "metadata": {},
     "output_type": "execute_result"
    },
    {
     "data": {
      "image/png": "[encoded data removed]",
      "text/plain": [
       "<Figure size 432x288 with 1 Axes>"
      ]
     },
     "metadata": {
      "needs_background": "light"
     },
     "output_type": "display_data"
    }
   ],
   "source": [
    "X1  = X[X.clusterTS==0]\n",
    "X2  = X[X.clusterTS==1]\n",
    "\n",
    "\n",
    "plt.scatter(X1['Salinity'],X1['Temperature'], color= 'green')\n",
    "plt.scatter(X2['Salinity'],X2['Temperature'], color= 'green')\n",
    "plt.scatter(km.cluster_centers_[:,0],km.cluster_centers_[:,1],color = 'black',marker='+', label='centroid')\n",
    "\n",
    "plt.xlabel('Temperature')\n",
    "plt.ylabel('Salinity')\n",
    "plt.legend()"
   ]
  },
  {
   "cell_type": "markdown",
   "id": "73560a73",
   "metadata": {},
   "source": [
    "## Density - Depth "
   ]
  },
  {
   "cell_type": "code",
   "execution_count": 18,
   "id": "96ef82c9",
   "metadata": {},
   "outputs": [
    {
     "data": {
      "text/plain": [
       "KMeans(n_clusters=2)"
      ]
     },
     "execution_count": 18,
     "metadata": {},
     "output_type": "execute_result"
    }
   ],
   "source": [
    "km = KMeans(n_clusters= 2)\n",
    "km"
   ]
  },
  {
   "cell_type": "code",
   "execution_count": 19,
   "id": "b9258d6d",
   "metadata": {},
   "outputs": [
    {
     "data": {
      "text/plain": [
       "array([0, 0, 0, 0, 0, 0, 0, 0, 1, 1, 1, 1, 1, 1, 1, 1])"
      ]
     },
     "execution_count": 19,
     "metadata": {},
     "output_type": "execute_result"
    }
   ],
   "source": [
    "y_pred=km.fit_predict(X[['Depth','Density']])\n",
    "y_pred"
   ]
  },
  {
   "cell_type": "code",
   "execution_count": 20,
   "id": "19255995",
   "metadata": {},
   "outputs": [
    {
     "data": {
      "text/html": [
       "<div>\n",
       "<style scoped>\n",
       "    .dataframe tbody tr th:only-of-type {\n",
       "        vertical-align: middle;\n",
       "    }\n",
       "\n",
       "    .dataframe tbody tr th {\n",
       "        vertical-align: top;\n",
       "    }\n",
       "\n",
       "    .dataframe thead th {\n",
       "        text-align: right;\n",
       "    }\n",
       "</style>\n",
       "<table border=\"1\" class=\"dataframe\">\n",
       "  <thead>\n",
       "    <tr style=\"text-align: right;\">\n",
       "      <th></th>\n",
       "      <th>Depth</th>\n",
       "      <th>Temperature</th>\n",
       "      <th>Salinity</th>\n",
       "      <th>Density</th>\n",
       "      <th>Density Anomaly</th>\n",
       "      <th>Spiciness Anomaly</th>\n",
       "      <th>cluster</th>\n",
       "      <th>clusterTS</th>\n",
       "      <th>clusterDens</th>\n",
       "    </tr>\n",
       "  </thead>\n",
       "  <tbody>\n",
       "    <tr>\n",
       "      <th>2</th>\n",
       "      <td>-10.0</td>\n",
       "      <td>26.649944</td>\n",
       "      <td>35.892368</td>\n",
       "      <td>23.503546</td>\n",
       "      <td>0.111938</td>\n",
       "      <td>-0.480490</td>\n",
       "      <td>0</td>\n",
       "      <td>0</td>\n",
       "      <td>0</td>\n",
       "    </tr>\n",
       "    <tr>\n",
       "      <th>3</th>\n",
       "      <td>-15.0</td>\n",
       "      <td>26.617769</td>\n",
       "      <td>35.876305</td>\n",
       "      <td>23.502052</td>\n",
       "      <td>0.056480</td>\n",
       "      <td>-0.454501</td>\n",
       "      <td>0</td>\n",
       "      <td>0</td>\n",
       "      <td>0</td>\n",
       "    </tr>\n",
       "    <tr>\n",
       "      <th>4</th>\n",
       "      <td>-20.0</td>\n",
       "      <td>26.586895</td>\n",
       "      <td>35.888584</td>\n",
       "      <td>23.521507</td>\n",
       "      <td>0.015493</td>\n",
       "      <td>-0.389119</td>\n",
       "      <td>0</td>\n",
       "      <td>0</td>\n",
       "      <td>0</td>\n",
       "    </tr>\n",
       "    <tr>\n",
       "      <th>5</th>\n",
       "      <td>-25.0</td>\n",
       "      <td>26.563639</td>\n",
       "      <td>35.895313</td>\n",
       "      <td>23.534372</td>\n",
       "      <td>-0.063244</td>\n",
       "      <td>-0.260825</td>\n",
       "      <td>0</td>\n",
       "      <td>0</td>\n",
       "      <td>0</td>\n",
       "    </tr>\n",
       "    <tr>\n",
       "      <th>6</th>\n",
       "      <td>-30.0</td>\n",
       "      <td>26.556999</td>\n",
       "      <td>35.910000</td>\n",
       "      <td>23.547962</td>\n",
       "      <td>-0.172590</td>\n",
       "      <td>-0.084824</td>\n",
       "      <td>0</td>\n",
       "      <td>0</td>\n",
       "      <td>0</td>\n",
       "    </tr>\n",
       "  </tbody>\n",
       "</table>\n",
       "</div>"
      ],
      "text/plain": [
       "   Depth  Temperature   Salinity    Density  Density Anomaly  \\\n",
       "2  -10.0    26.649944  35.892368  23.503546         0.111938   \n",
       "3  -15.0    26.617769  35.876305  23.502052         0.056480   \n",
       "4  -20.0    26.586895  35.888584  23.521507         0.015493   \n",
       "5  -25.0    26.563639  35.895313  23.534372        -0.063244   \n",
       "6  -30.0    26.556999  35.910000  23.547962        -0.172590   \n",
       "\n",
       "   Spiciness Anomaly  cluster  clusterTS  clusterDens  \n",
       "2          -0.480490        0          0            0  \n",
       "3          -0.454501        0          0            0  \n",
       "4          -0.389119        0          0            0  \n",
       "5          -0.260825        0          0            0  \n",
       "6          -0.084824        0          0            0  "
      ]
     },
     "execution_count": 20,
     "metadata": {},
     "output_type": "execute_result"
    }
   ],
   "source": [
    "X['clusterDens']= y_pred\n",
    "X.head()"
   ]
  },
  {
   "cell_type": "code",
   "execution_count": 21,
   "id": "c12463a3",
   "metadata": {},
   "outputs": [
    {
     "data": {
      "text/plain": [
       "array([[-27.5     ,  23.808619],\n",
       "       [-67.5     ,  25.318043]], dtype=float32)"
      ]
     },
     "execution_count": 21,
     "metadata": {},
     "output_type": "execute_result"
    }
   ],
   "source": [
    "km.cluster_centers_"
   ]
  },
  {
   "cell_type": "code",
   "execution_count": 22,
   "id": "7355b95d",
   "metadata": {},
   "outputs": [
    {
     "name": "stderr",
     "output_type": "stream",
     "text": [
      "No artists with labels found to put in legend.  Note that artists whose label start with an underscore are ignored when legend() is called with no argument.\n"
     ]
    },
    {
     "data": {
      "text/plain": [
       "<matplotlib.legend.Legend at 0x1de3d598790>"
      ]
     },
     "execution_count": 22,
     "metadata": {},
     "output_type": "execute_result"
    },
    {
     "data": {
      "image/png": "[encoded data removed]",
      "text/plain": [
       "<Figure size 432x288 with 1 Axes>"
      ]
     },
     "metadata": {
      "needs_background": "light"
     },
     "output_type": "display_data"
    }
   ],
   "source": [
    "X1  = X[X.clusterDens==0]\n",
    "X2  = X[X.clusterDens==1]\n",
    "\n",
    "\n",
    "plt.scatter(X1['Depth'],X1['Density'], color= 'green')\n",
    "plt.scatter(X2['Depth'],X2['Density'], color= 'blue')\n",
    "\n",
    "plt.xlabel('Density')\n",
    "plt.ylabel('Depth')\n",
    "plt.legend()"
   ]
  },
  {
   "cell_type": "markdown",
   "id": "fcc828f2",
   "metadata": {},
   "source": [
    "## COUNTER CLASSIFICATION\n",
    "# Create a DataFrame with labels and varieties as columns: df\n",
    "df = pd.DataFrame({'Labels': labels, 'Clusters': pred})\n",
    "\n",
    "# Create crosstab: ct\n",
    "ct = pd.crosstab(df['Labels'], df['Clusters'])\n",
    "\n",
    "# Display ct\n",
    "print(ct)"
   ]
  },
  {
   "cell_type": "markdown",
   "id": "771ee695",
   "metadata": {},
   "source": [
    "# DataFrame pour les profiles IDY"
   ]
  },
  {
   "cell_type": "code",
   "execution_count": 23,
   "id": "fb30acba",
   "metadata": {},
   "outputs": [
    {
     "name": "stdout",
     "output_type": "stream",
     "text": [
      "13475\n",
      "[36.002    36.002    36.006878 36.000034 36.00095  36.001    36.001\n",
      " 36.001083 36.002293 36.006    36.006    36.004868 36.003853 35.9988\n",
      " 36.027317 36.09111  35.962055 35.837795 35.840843 35.778744 35.68102\n",
      " 35.659702 35.553795 35.53496  35.524    35.516945 35.52136  35.534195\n",
      " 35.61284  35.61089  35.65109  35.70121  35.708282 35.650005 35.602848\n",
      " 35.49497  35.461296 35.41809  35.453247 35.485542 35.506367 35.532196\n",
      " 35.53727  35.510033 35.46219  35.389225 35.341953 35.334087 35.406578\n",
      " 35.470646 35.687923 36.131374 36.146824 36.168335 36.23674  36.222206\n",
      " 36.207993 36.224285 36.293205 36.388622 36.39412  36.375137 36.397556\n",
      " 36.39859  36.393    36.38759  36.357742 36.292274 36.144894 36.132885\n",
      " 35.99197  35.985    35.94626  35.915886 35.878017 35.830856 35.8095\n",
      " 35.756542 35.705162 35.6821   35.668    35.64926  35.67585  35.687588\n",
      " 35.721    35.734344 35.74875  35.795048 35.798557 35.772877 35.75451\n",
      " 35.74717  35.769    35.76339  35.764687 35.76256  35.74461  35.706898\n",
      " 35.68304  35.662724 35.66     35.6607   35.639664 35.62953  35.626022\n",
      " 35.628056 35.62891  35.62644  35.62542  35.622192 35.632458 35.637\n",
      " 35.63935  35.635666 35.633366 35.64321  35.65579  35.65879  35.657\n",
      " 35.66077  35.66279  35.662384 35.64657  35.636936 35.606483 35.59324\n",
      " 35.58361  35.582    35.58587  35.584045 35.578144 35.578    35.590984\n",
      " 35.58913  35.59391  35.589874 35.586838 35.5807   35.57776  35.580555\n",
      " 35.578056 35.563824 35.566196 35.567642 35.5767   35.580254 35.57973\n",
      " 35.579712 35.579693 35.577343 35.575653 35.574    35.572    35.574814\n",
      " 35.575    35.57356  35.576786 35.578514 35.577    35.574955 35.571373\n",
      " 35.57044  35.569416 35.5664   35.56389  35.557713 35.555676 35.549633\n",
      " 35.545    35.545    35.545    35.546    35.545216 35.538586 35.53335\n",
      " 35.52662  35.5194   35.519886 35.524723 35.513435 35.511    35.511\n",
      " 35.50901  35.505    35.50497  35.505737 35.49948  35.48581  35.479534\n",
      " 35.46394  35.445366 35.4459   35.44459  35.43778  35.436756 35.44498\n",
      " 35.450428 35.44162  35.441673 35.436    35.433624 35.431602 35.43\n",
      " 35.428562 35.42754  35.425034 35.42099  35.41947  35.412804 35.406857\n",
      " 35.39944  35.393387 35.390087 35.38468  35.378635 35.37518  35.367817\n",
      " 35.35625  35.344685 35.337616 35.336    35.346405 35.33882  35.326797\n",
      " 35.317368 35.311275 35.298225 35.295    35.287    35.282978 35.280952\n",
      " 35.27993  35.27872  35.27477  35.27058  35.266834 35.263065 35.25758\n",
      " 35.2533   35.248486 35.245716 35.24139  35.241    35.238647 35.233624\n",
      " 35.231197 35.228577 35.226105 35.220585 35.215504 35.21196  35.20437\n",
      " 35.198727 35.195    35.191147 35.186436 35.182335 35.18131  35.17957\n",
      " 35.17652  35.16971  35.166424 35.160374 35.15984  35.153275 35.15111\n",
      " 35.144436 35.141    35.139038 35.135025 35.139    35.137    35.134747\n",
      " 35.12856  35.121548 35.115723 35.110836 35.10862  35.105    35.10476\n",
      " 35.10167  35.094124 35.091    35.089657 35.087    35.087    35.082478\n",
      " 35.075554 35.070583 35.063503 35.05795  35.056    35.054424 35.048794\n",
      " 35.04737  35.04469  35.041317 35.036877 35.03153  35.02824  35.026215\n",
      " 35.02519  35.02332  35.01827  35.016212 35.008316 35.004105 35.00205\n",
      " 35.001    35.005    35.002888 34.999836 34.99689  34.99586  34.993835\n",
      " 34.99062  34.986782 34.984756 34.982727 34.9804   34.977673 34.976\n",
      " 34.974617 34.972588 34.967686 34.965534 34.964508 34.96296  34.9589\n",
      " 34.955425 34.953392 34.9491   34.94534  34.94331  34.938847 34.937256\n",
      " 34.936775 34.936    34.93517  34.93314  34.932    34.93017  34.928055\n",
      " 34.923054 34.922997 34.921    34.918938 34.916912 34.91377  34.911854\n",
      " 34.911    34.909    34.907303 34.904736 34.90371  34.90168  34.9\n",
      " 34.898865 34.896    34.89456  34.891068 34.888    34.887    34.886\n",
      " 34.883415 34.88177  34.881    34.87865  34.877296 34.877266 34.875\n",
      " 34.875    34.874    34.874    34.87212  34.86626  34.86506  34.865\n",
      " 34.865    34.864967 34.863    34.861    34.861126 34.862156 34.862812\n",
      " 34.859913 34.850754 34.84972  34.84769  34.84766  34.846    34.846\n",
      " 34.848    34.84654  34.845    34.844475 34.84244  34.841    34.84038\n",
      " 34.839    34.838318 34.837288]\n",
      "402\n"
     ]
    },
    {
     "data": {
      "text/plain": [
       "402"
      ]
     },
     "execution_count": 23,
     "metadata": {},
     "output_type": "execute_result"
    }
   ],
   "source": [
    "idy=np.where(np.logical_and(year>= 2007, year<= 2017))\n",
    "idy=np.where(np.logical_and(lat<=20, lon<= 65))\n",
    "#print(idy[0])\n",
    "#print(Sanc.shape)\n",
    "print(len(Sanc[idy[0],0]))\n",
    "print(Sanc[0])\n",
    "print(len(Sanc[0,:]))\n",
    "len(Sanc[0])"
   ]
  },
  {
   "cell_type": "markdown",
   "id": "c3f96959",
   "metadata": {},
   "source": [
    "Z= zanc[0]\n",
    "i=1\n",
    "for i in range(13475):\n",
    "    Z= np.append(Z,zanc[i])\n",
    "    i+= 1\n",
    "    \n",
    "    \n",
    "S= Sanc[0]\n",
    "i=1\n",
    "for i in range(13475):\n",
    "    S= np.append(S,Sanc[i])\n",
    "    i+= 1\n",
    "\n",
    "T= Tanc[0]\n",
    "i=1\n",
    "for i in range(13475):\n",
    "    T= np.append(T,Tanc[i])\n",
    "    i+= 1\n",
    "\n",
    "\n",
    "D= Dens[0]\n",
    "i=1\n",
    "for i in range(13475):\n",
    "    D= np.append(D,Dens[i])\n",
    "    i+= 1\n",
    "\n",
    "D_ano=Dens_ano[0]\n",
    "i=1\n",
    "for i in range(13475):\n",
    "    S= np.append(S,Dens_ano[i])\n",
    "    i+= 1\n",
    "    \n",
    "Sp_ano=sp_ano[0]\n",
    "i=1\n",
    "for i in range(13475):\n",
    "    S= np.append(S,sp_ano[i])\n",
    "    i+= 1\n",
    "    \n",
    "\n",
    "data = pd.DataFrame(list(zip(Z,T,S,D,D_ano,Sp_ano)),\n",
    "               columns =['Depth','Temperature','Salinity','Density','Density Anomaly','Spiciness Anomaly'])\n",
    "X = pd.DataFrame(data)\n",
    "    "
   ]
  },
  {
   "cell_type": "code",
   "execution_count": null,
   "id": "402c2736",
   "metadata": {},
   "outputs": [],
   "source": [
    "data = pd.DataFrame(list(zip(zanc[0],Tanc[0],Sanc[0],Dens[0],Dens_ano[0],sp_ano[0])),\n",
    "               columns =['Depth','Temperature','Salinity','Density','Density Anomaly','Spiciness Anomaly'])\n",
    "X = pd.DataFrame(data)\n",
    "\n",
    "i = 1\n",
    "for i in range(1,13475):\n",
    "    Xd =pd.DataFrame({'Depth':zanc[i],'Temperature':Tanc[i],'Salinity':Sanc[i],'Density':Dens[i],'Density Anomaly':Dens_ano[i],'Spiciness Anomaly':sp_ano[i]})\n",
    "    X= np.append(X,Xd)\n",
    "    i+=1\n"
   ]
  },
  {
   "cell_type": "code",
   "execution_count": null,
   "id": "2301babc",
   "metadata": {},
   "outputs": [],
   "source": [
    "Z= zanc[0]\n",
    "i=1\n",
    "for i in range(13475):\n",
    "    Z= np.append(Z,zanc[i])\n",
    "    i+= 1\n",
    "    \n",
    "    \n",
    "S= Sanc[0]\n",
    "i=1\n",
    "for i in range(13475):\n",
    "    S= np.append(S,Sanc[i])\n",
    "    i+= 1\n",
    "\n",
    "T= Tanc[0]\n",
    "i=1\n",
    "for i in range(13475):\n",
    "    T= np.append(T,Tanc[i])\n",
    "    i+= 1\n",
    "\n",
    "\n",
    "D= Dens[0]\n",
    "i=1\n",
    "for i in range(13475):\n",
    "    D= np.append(D,Dens[i])\n",
    "    i+= 1\n",
    "\n",
    "D_ano=Dens_ano[0]\n",
    "i=1\n",
    "for i in range(13475):\n",
    "    S= np.append(S,Dens_ano[i])\n",
    "    i+= 1\n",
    "    \n",
    "Sp_ano=sp_ano[0]\n",
    "i=1\n",
    "for i in range(13475):\n",
    "    S= np.append(S,sp_ano[i])\n",
    "    i+= 1\n",
    "    \n",
    "\n",
    "data = pd.DataFrame(list(zip(Z,T,S,D,D_ano,Sp_ano)),\n",
    "               columns =['Depth','Temperature','Salinity','Density','Density Anomaly','Spiciness Anomaly'])\n",
    "X = pd.DataFrame(data)"
   ]
  },
  {
   "cell_type": "markdown",
   "id": "b33f4acb",
   "metadata": {},
   "source": [
    "# Creation de DATAFRAME de IDY"
   ]
  },
  {
   "cell_type": "code",
   "execution_count": null,
   "id": "d72b0001",
   "metadata": {},
   "outputs": [],
   "source": [
    "## suppression des lignes contenant des Nans de LA DataFrame\n",
    "\n",
    "index_with_nan = X.index[X.isnull().any(axis=1)]\n",
    "X.drop(index_with_nan,0, inplace=True) \n",
    "print(X)"
   ]
  },
  {
   "cell_type": "code",
   "execution_count": null,
   "id": "5772e7e1",
   "metadata": {},
   "outputs": [],
   "source": [
    "ls\n"
   ]
  }
 ],
 "metadata": {
  "kernelspec": {
   "display_name": "Python 3 (ipykernel)",
   "language": "python",
   "name": "python3"
  },
  "language_info": {
   "codemirror_mode": {
    "name": "ipython",
    "version": 3
   },
   "file_extension": ".py",
   "mimetype": "text/x-python",
   "name": "python",
   "nbconvert_exporter": "python",
   "pygments_lexer": "ipython3",
   "version": "3.9.7"
  }
 },
 "nbformat": 4,
 "nbformat_minor": 5
}
